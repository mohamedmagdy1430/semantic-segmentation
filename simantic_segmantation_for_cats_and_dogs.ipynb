{
  "nbformat": 4,
  "nbformat_minor": 0,
  "metadata": {
    "colab": {
      "provenance": []
    },
    "kernelspec": {
      "name": "python3",
      "display_name": "Python 3"
    },
    "language_info": {
      "name": "python"
    },
    "accelerator": "GPU",
    "gpuClass": "standard"
  },
  "cells": [
    {
      "cell_type": "code",
      "source": [
        "!pip install git+https://github.com/tensorflow/examples.git\n",
        "!pip install -U tfds-nightly"
      ],
      "metadata": {
        "colab": {
          "base_uri": "https://localhost:8080/"
        },
        "id": "oAEpjQYOV72w",
        "outputId": "f0a07a34-5efb-4542-9f57-8c67c25ba0e5"
      },
      "execution_count": 2,
      "outputs": [
        {
          "output_type": "stream",
          "name": "stdout",
          "text": [
            "Looking in indexes: https://pypi.org/simple, https://us-python.pkg.dev/colab-wheels/public/simple/\n",
            "Collecting git+https://github.com/tensorflow/examples.git\n",
            "  Cloning https://github.com/tensorflow/examples.git to /tmp/pip-req-build-p3hdtpws\n",
            "  Running command git clone --filter=blob:none --quiet https://github.com/tensorflow/examples.git /tmp/pip-req-build-p3hdtpws\n",
            "  Resolved https://github.com/tensorflow/examples.git to commit 5bc9f1ed519146242db5e71f00d9d39d52a308c8\n",
            "  \u001b[1;31merror\u001b[0m: \u001b[1msubprocess-exited-with-error\u001b[0m\n",
            "  \n",
            "  \u001b[31m×\u001b[0m \u001b[32mpython setup.py egg_info\u001b[0m did not run successfully.\n",
            "  \u001b[31m│\u001b[0m exit code: \u001b[1;36m1\u001b[0m\n",
            "  \u001b[31m╰─>\u001b[0m See above for output.\n",
            "  \n",
            "  \u001b[1;35mnote\u001b[0m: This error originates from a subprocess, and is likely not a problem with pip.\n",
            "  Preparing metadata (setup.py) ... \u001b[?25l\u001b[?25herror\n",
            "\u001b[1;31merror\u001b[0m: \u001b[1mmetadata-generation-failed\u001b[0m\n",
            "\n",
            "\u001b[31m×\u001b[0m Encountered error while generating package metadata.\n",
            "\u001b[31m╰─>\u001b[0m See above for output.\n",
            "\n",
            "\u001b[1;35mnote\u001b[0m: This is an issue with the package mentioned above, not pip.\n",
            "\u001b[1;36mhint\u001b[0m: See above for details.\n",
            "Looking in indexes: https://pypi.org/simple, https://us-python.pkg.dev/colab-wheels/public/simple/\n",
            "Collecting tfds-nightly\n",
            "  Downloading tfds_nightly-4.8.3.dev202304030044-py3-none-any.whl (5.4 MB)\n",
            "\u001b[2K     \u001b[90m━━━━━━━━━━━━━━━━━━━━━━━━━━━━━━━━━━━━━━━━\u001b[0m \u001b[32m5.4/5.4 MB\u001b[0m \u001b[31m50.8 MB/s\u001b[0m eta \u001b[36m0:00:00\u001b[0m\n",
            "\u001b[?25hRequirement already satisfied: promise in /usr/local/lib/python3.9/dist-packages (from tfds-nightly) (2.3)\n",
            "Requirement already satisfied: absl-py in /usr/local/lib/python3.9/dist-packages (from tfds-nightly) (1.4.0)\n",
            "Requirement already satisfied: dm-tree in /usr/local/lib/python3.9/dist-packages (from tfds-nightly) (0.1.8)\n",
            "Requirement already satisfied: requests>=2.19.0 in /usr/local/lib/python3.9/dist-packages (from tfds-nightly) (2.27.1)\n",
            "Collecting array-record\n",
            "  Downloading array_record-0.2.0-py39-none-any.whl (3.0 MB)\n",
            "\u001b[2K     \u001b[90m━━━━━━━━━━━━━━━━━━━━━━━━━━━━━━━━━━━━━━━━\u001b[0m \u001b[32m3.0/3.0 MB\u001b[0m \u001b[31m60.7 MB/s\u001b[0m eta \u001b[36m0:00:00\u001b[0m\n",
            "\u001b[?25hRequirement already satisfied: toml in /usr/local/lib/python3.9/dist-packages (from tfds-nightly) (0.10.2)\n",
            "Requirement already satisfied: tensorflow-metadata in /usr/local/lib/python3.9/dist-packages (from tfds-nightly) (1.12.0)\n",
            "Requirement already satisfied: termcolor in /usr/local/lib/python3.9/dist-packages (from tfds-nightly) (2.2.0)\n",
            "Requirement already satisfied: protobuf in /usr/local/lib/python3.9/dist-packages (from tfds-nightly) (3.20.3)\n",
            "Requirement already satisfied: numpy in /usr/local/lib/python3.9/dist-packages (from tfds-nightly) (1.22.4)\n",
            "Requirement already satisfied: psutil in /usr/local/lib/python3.9/dist-packages (from tfds-nightly) (5.9.4)\n",
            "Requirement already satisfied: etils[enp,epath]>=0.9.0 in /usr/local/lib/python3.9/dist-packages (from tfds-nightly) (1.1.1)\n",
            "Requirement already satisfied: wrapt in /usr/local/lib/python3.9/dist-packages (from tfds-nightly) (1.14.1)\n",
            "Requirement already satisfied: tqdm in /usr/local/lib/python3.9/dist-packages (from tfds-nightly) (4.65.0)\n",
            "Requirement already satisfied: click in /usr/local/lib/python3.9/dist-packages (from tfds-nightly) (8.1.3)\n",
            "Requirement already satisfied: zipp in /usr/local/lib/python3.9/dist-packages (from etils[enp,epath]>=0.9.0->tfds-nightly) (3.15.0)\n",
            "Requirement already satisfied: typing_extensions in /usr/local/lib/python3.9/dist-packages (from etils[enp,epath]>=0.9.0->tfds-nightly) (4.5.0)\n",
            "Requirement already satisfied: importlib_resources in /usr/local/lib/python3.9/dist-packages (from etils[enp,epath]>=0.9.0->tfds-nightly) (5.12.0)\n",
            "Requirement already satisfied: urllib3<1.27,>=1.21.1 in /usr/local/lib/python3.9/dist-packages (from requests>=2.19.0->tfds-nightly) (1.26.15)\n",
            "Requirement already satisfied: charset-normalizer~=2.0.0 in /usr/local/lib/python3.9/dist-packages (from requests>=2.19.0->tfds-nightly) (2.0.12)\n",
            "Requirement already satisfied: certifi>=2017.4.17 in /usr/local/lib/python3.9/dist-packages (from requests>=2.19.0->tfds-nightly) (2022.12.7)\n",
            "Requirement already satisfied: idna<4,>=2.5 in /usr/local/lib/python3.9/dist-packages (from requests>=2.19.0->tfds-nightly) (3.4)\n",
            "Requirement already satisfied: six in /usr/local/lib/python3.9/dist-packages (from promise->tfds-nightly) (1.16.0)\n",
            "Requirement already satisfied: googleapis-common-protos<2,>=1.52.0 in /usr/local/lib/python3.9/dist-packages (from tensorflow-metadata->tfds-nightly) (1.59.0)\n",
            "Installing collected packages: array-record, tfds-nightly\n",
            "Successfully installed array-record-0.2.0 tfds-nightly-4.8.3.dev202304030044\n"
          ]
        }
      ]
    },
    {
      "cell_type": "code",
      "source": [
        "import tensorflow as tf\n",
        "import tensorflow_datasets as tfds\n",
        "tfds.disable_progress_bar()\n",
        "from IPython.display import clear_output\n",
        "import matplotlib.pyplot as plt"
      ],
      "metadata": {
        "id": "LorNVCTlTtN1"
      },
      "execution_count": 14,
      "outputs": []
    },
    {
      "cell_type": "code",
      "source": [
        "dataset, info = tfds.load('oxford_iiit_pet:3.*.*', with_info=True)"
      ],
      "metadata": {
        "colab": {
          "base_uri": "https://localhost:8080/"
        },
        "id": "aUIboOjoVuav",
        "outputId": "7f56693e-7087-449f-f750-8032c379d3c6"
      },
      "execution_count": 4,
      "outputs": [
        {
          "output_type": "stream",
          "name": "stdout",
          "text": [
            "Downloading and preparing dataset 773.52 MiB (download: 773.52 MiB, generated: 774.69 MiB, total: 1.51 GiB) to /root/tensorflow_datasets/oxford_iiit_pet/3.2.0...\n",
            "Dataset oxford_iiit_pet downloaded and prepared to /root/tensorflow_datasets/oxford_iiit_pet/3.2.0. Subsequent calls will reuse this data.\n"
          ]
        }
      ]
    },
    {
      "cell_type": "code",
      "source": [
        "dataset"
      ],
      "metadata": {
        "colab": {
          "base_uri": "https://localhost:8080/"
        },
        "id": "EQdVKkZ0WmHS",
        "outputId": "282b9f69-de68-4d84-91f4-72ec436d47a1"
      },
      "execution_count": 5,
      "outputs": [
        {
          "output_type": "execute_result",
          "data": {
            "text/plain": [
              "{'train': <_PrefetchDataset element_spec={'file_name': TensorSpec(shape=(), dtype=tf.string, name=None), 'image': TensorSpec(shape=(None, None, 3), dtype=tf.uint8, name=None), 'label': TensorSpec(shape=(), dtype=tf.int64, name=None), 'segmentation_mask': TensorSpec(shape=(None, None, 1), dtype=tf.uint8, name=None), 'species': TensorSpec(shape=(), dtype=tf.int64, name=None)}>,\n",
              " 'test': <_PrefetchDataset element_spec={'file_name': TensorSpec(shape=(), dtype=tf.string, name=None), 'image': TensorSpec(shape=(None, None, 3), dtype=tf.uint8, name=None), 'label': TensorSpec(shape=(), dtype=tf.int64, name=None), 'segmentation_mask': TensorSpec(shape=(None, None, 1), dtype=tf.uint8, name=None), 'species': TensorSpec(shape=(), dtype=tf.int64, name=None)}>}"
            ]
          },
          "metadata": {},
          "execution_count": 5
        }
      ]
    },
    {
      "cell_type": "code",
      "source": [
        "def normalize(input_image, input_mask):\n",
        "  input_image = tf.cast(input_image, tf.float32) / 255.0\n",
        "  input_mask -= 1\n",
        "  return input_image, input_mask"
      ],
      "metadata": {
        "id": "64BW0egOWf2h"
      },
      "execution_count": 6,
      "outputs": []
    },
    {
      "cell_type": "code",
      "source": [
        "def load_image_train(datapoint):\n",
        "  input_image = tf.image.resize(datapoint['image'], (128, 128))\n",
        "  input_mask = tf.image.resize(datapoint['segmentation_mask'], (128, 128))\n",
        "\n",
        "  if tf.random.uniform(()) > 0.5:\n",
        "    input_image = tf.image.flip_left_right(input_image)\n",
        "    input_mask = tf.image.flip_left_right(input_mask)\n",
        "\n",
        "  input_image, input_mask = normalize(input_image, input_mask)\n",
        "\n",
        "  return input_image, input_mask"
      ],
      "metadata": {
        "id": "OiM8m_qcWj4s"
      },
      "execution_count": 7,
      "outputs": []
    },
    {
      "cell_type": "code",
      "source": [
        "def load_image_test(datapoint):\n",
        "  input_image = tf.image.resize(datapoint['image'], (128, 128))\n",
        "  input_mask = tf.image.resize(datapoint['segmentation_mask'], (128, 128))\n",
        "\n",
        "  input_image, input_mask = normalize(input_image, input_mask)\n",
        "\n",
        "  return input_image, input_mask"
      ],
      "metadata": {
        "id": "cmituF5DW8G3"
      },
      "execution_count": 8,
      "outputs": []
    },
    {
      "cell_type": "code",
      "source": [
        "TRAIN_LENGTH = info.splits['train'].num_examples\n",
        "BATCH_SIZE = 64\n",
        "BUFFER_SIZE = 1000\n",
        "STEPS_PER_EPOCH = TRAIN_LENGTH // BATCH_SIZE"
      ],
      "metadata": {
        "id": "4W9z11hbXJVG"
      },
      "execution_count": 9,
      "outputs": []
    },
    {
      "cell_type": "code",
      "source": [
        "train = dataset['train'].map(load_image_train, num_parallel_calls=tf.data.experimental.AUTOTUNE)\n",
        "test = dataset['test'].map(load_image_test)"
      ],
      "metadata": {
        "id": "aqk_wYf0XNsA"
      },
      "execution_count": 10,
      "outputs": []
    },
    {
      "cell_type": "code",
      "source": [
        "train_dataset = train.cache().shuffle(BUFFER_SIZE).batch(BATCH_SIZE).repeat()\n",
        "train_dataset = train_dataset.prefetch(buffer_size=tf.data.experimental.AUTOTUNE)\n",
        "test_dataset = test.batch(BATCH_SIZE)"
      ],
      "metadata": {
        "id": "cl0leLJsXWQz"
      },
      "execution_count": 11,
      "outputs": []
    },
    {
      "cell_type": "code",
      "source": [
        "def display(display_list):\n",
        "  plt.figure(figsize=(15, 15))\n",
        "\n",
        "  title = ['Input Image', 'True Mask', 'Predicted Mask']\n",
        "\n",
        "  for i in range(len(display_list)):\n",
        "    plt.subplot(1, len(display_list), i+1)\n",
        "    plt.title(title[i])\n",
        "    plt.imshow(tf.keras.preprocessing.image.array_to_img(display_list[i]))\n",
        "    plt.axis('off')\n",
        "  plt.show()"
      ],
      "metadata": {
        "id": "Rvjh_rmWXa7-"
      },
      "execution_count": 12,
      "outputs": []
    },
    {
      "cell_type": "code",
      "source": [
        "for image, mask in train.take(1):\n",
        "  sample_image, sample_mask = image, mask\n",
        "display([sample_image, sample_mask])"
      ],
      "metadata": {
        "colab": {
          "base_uri": "https://localhost:8080/",
          "height": 587
        },
        "id": "gQhkg_jlXg-R",
        "outputId": "d4b5a803-b294-415f-9ad2-a5af925eb1e7"
      },
      "execution_count": 15,
      "outputs": [
        {
          "output_type": "display_data",
          "data": {
            "text/plain": [
              "<Figure size 1500x1500 with 2 Axes>"
            ],
            "image/png": "[encoded data removed]"
          },
          "metadata": {}
        }
      ]
    },
    {
      "cell_type": "code",
      "source": [
        "OUTPUT_CHANNELS = 3"
      ],
      "metadata": {
        "id": "pwpx7dqdXnQW"
      },
      "execution_count": 16,
      "outputs": []
    },
    {
      "cell_type": "code",
      "source": [
        "train_dataset"
      ],
      "metadata": {
        "colab": {
          "base_uri": "https://localhost:8080/"
        },
        "id": "tKhb8EP5X3kz",
        "outputId": "1a881395-fdf2-40f0-c136-e902045113b2"
      },
      "execution_count": 17,
      "outputs": [
        {
          "output_type": "execute_result",
          "data": {
            "text/plain": [
              "<_PrefetchDataset element_spec=(TensorSpec(shape=(None, 128, 128, 3), dtype=tf.float32, name=None), TensorSpec(shape=(None, 128, 128, 1), dtype=tf.float32, name=None))>"
            ]
          },
          "metadata": {},
          "execution_count": 17
        }
      ]
    },
    {
      "cell_type": "code",
      "source": [
        "test_dataset"
      ],
      "metadata": {
        "colab": {
          "base_uri": "https://localhost:8080/"
        },
        "id": "Gxoercq0YUOU",
        "outputId": "0381c368-bcd2-4091-a4fe-269d0f0d0217"
      },
      "execution_count": 18,
      "outputs": [
        {
          "output_type": "execute_result",
          "data": {
            "text/plain": [
              "<_BatchDataset element_spec=(TensorSpec(shape=(None, 128, 128, 3), dtype=tf.float32, name=None), TensorSpec(shape=(None, 128, 128, 1), dtype=tf.float32, name=None))>"
            ]
          },
          "metadata": {},
          "execution_count": 18
        }
      ]
    },
    {
      "cell_type": "code",
      "source": [
        "train"
      ],
      "metadata": {
        "colab": {
          "base_uri": "https://localhost:8080/"
        },
        "id": "xw0zNOqTYb9H",
        "outputId": "e2739a7d-697f-4e4c-e11a-d2db908dce70"
      },
      "execution_count": 19,
      "outputs": [
        {
          "output_type": "execute_result",
          "data": {
            "text/plain": [
              "<_ParallelMapDataset element_spec=(TensorSpec(shape=(128, 128, 3), dtype=tf.float32, name=None), TensorSpec(shape=(128, 128, 1), dtype=tf.float32, name=None))>"
            ]
          },
          "metadata": {},
          "execution_count": 19
        }
      ]
    },
    {
      "cell_type": "code",
      "source": [
        "test"
      ],
      "metadata": {
        "colab": {
          "base_uri": "https://localhost:8080/"
        },
        "id": "xP_qegJ-Yhfd",
        "outputId": "d3b63ba4-e075-4d84-ba0d-4291f6384a50"
      },
      "execution_count": 20,
      "outputs": [
        {
          "output_type": "execute_result",
          "data": {
            "text/plain": [
              "<_MapDataset element_spec=(TensorSpec(shape=(128, 128, 3), dtype=tf.float32, name=None), TensorSpec(shape=(128, 128, 1), dtype=tf.float32, name=None))>"
            ]
          },
          "metadata": {},
          "execution_count": 20
        }
      ]
    },
    {
      "cell_type": "code",
      "source": [
        "from tensorflow import keras"
      ],
      "metadata": {
        "id": "al-AidercVeZ"
      },
      "execution_count": 21,
      "outputs": []
    },
    {
      "cell_type": "code",
      "source": [
        "from tensorflow.keras import layers"
      ],
      "metadata": {
        "id": "kyAk5cdlauqK"
      },
      "execution_count": 22,
      "outputs": []
    },
    {
      "cell_type": "code",
      "source": [
        "import numpy as np"
      ],
      "metadata": {
        "id": "ZYuH0cR8cd3j"
      },
      "execution_count": 24,
      "outputs": []
    },
    {
      "cell_type": "code",
      "source": [
        "def double_conv_block(x, n_filters):\n",
        "   # Conv2D then ReLU activation\n",
        "   x = layers.Conv2D(n_filters, 3, padding = \"same\", activation = \"relu\", kernel_initializer = \"he_normal\")(x)\n",
        "   # Conv2D then ReLU activation\n",
        "   x = layers.Conv2D(n_filters, 3, padding = \"same\", activation = \"relu\", kernel_initializer = \"he_normal\")(x)\n",
        "   return x"
      ],
      "metadata": {
        "id": "w5Gbl3tNciHY"
      },
      "execution_count": 25,
      "outputs": []
    },
    {
      "cell_type": "code",
      "source": [
        "def downsample_block(x, n_filters):\n",
        "   f = double_conv_block(x, n_filters)\n",
        "   p = layers.MaxPool2D(2)(f)\n",
        "   p = layers.Dropout(0.3)(p)\n",
        "   return f, p"
      ],
      "metadata": {
        "id": "bBQQqYjKcs1M"
      },
      "execution_count": 26,
      "outputs": []
    },
    {
      "cell_type": "code",
      "source": [
        "def upsample_block(x, conv_features, n_filters):\n",
        "   # upsample\n",
        "   x = layers.Conv2DTranspose(n_filters, 3, 2, padding=\"same\")(x)\n",
        "   # concatenate\n",
        "   x = layers.concatenate([x, conv_features])\n",
        "   # dropout\n",
        "   x = layers.Dropout(0.3)(x)\n",
        "   # Conv2D twice with ReLU activation\n",
        "   x = double_conv_block(x, n_filters)\n",
        "   return x"
      ],
      "metadata": {
        "id": "BhTDRfogcwxU"
      },
      "execution_count": 27,
      "outputs": []
    },
    {
      "cell_type": "code",
      "source": [
        "inputs = layers.Input(shape=(128,128,3))\n",
        "   # encoder: contracting path - downsample\n",
        "   # 1 - downsample\n",
        "f1, p1 = downsample_block(inputs, 64)\n",
        "   # 2 - downsample\n",
        "f2, p2 = downsample_block(p1, 128)\n",
        "   # 3 - downsample\n",
        "f3, p3 = downsample_block(p2, 256)\n",
        "   # 4 - downsample\n",
        "f4, p4 = downsample_block(p3, 512)\n",
        "   # 5 - bottleneck\n",
        "bottleneck = double_conv_block(p4, 1024)\n",
        "   # decoder: expanding path - upsample\n",
        "   # 6 - upsample\n",
        "u6 = upsample_block(bottleneck, f4, 512)\n",
        "   # 7 - upsample\n",
        "u7 = upsample_block(u6, f3, 256)\n",
        "   # 8 - upsample\n",
        "u8 = upsample_block(u7, f2, 128)\n",
        "   # 9 - upsample\n",
        "u9 = upsample_block(u8, f1, 64)\n",
        "   # outputs\n",
        "outputs = layers.Conv2D(37, 1, padding=\"same\", activation = \"softmax\")(u9)\n",
        "   # unet model with Keras Functional API\n",
        "unet_model = tf.keras.Model(inputs, outputs, name=\"U-Net\")"
      ],
      "metadata": {
        "id": "rpXYrGqSc4-B"
      },
      "execution_count": 28,
      "outputs": []
    },
    {
      "cell_type": "code",
      "source": [
        "unet_model.compile(optimizer=tf.keras.optimizers.Adam(),\n",
        "                  loss=\"sparse_categorical_crossentropy\",\n",
        "                  metrics=\"accuracy\")"
      ],
      "metadata": {
        "id": "dA6xB4gMdGb-"
      },
      "execution_count": 29,
      "outputs": []
    },
    {
      "cell_type": "code",
      "source": [
        "NUM_EPOCHS = 20\n",
        "TRAIN_LENGTH = info.splits[\"train\"].num_examples\n",
        "STEPS_PER_EPOCH = TRAIN_LENGTH // BATCH_SIZE\n",
        "VAL_SUBSPLITS = 5\n",
        "TEST_LENTH = info.splits[\"test\"].num_examples\n",
        "VALIDATION_STEPS = TEST_LENTH // BATCH_SIZE // VAL_SUBSPLITS\n",
        "model_history = unet_model.fit(train_dataset,\n",
        "                              epochs=NUM_EPOCHS,\n",
        "                              steps_per_epoch=STEPS_PER_EPOCH,\n",
        "                              validation_steps=VALIDATION_STEPS,\n",
        "                              validation_data=test_dataset)"
      ],
      "metadata": {
        "colab": {
          "base_uri": "https://localhost:8080/"
        },
        "id": "-M8DaY5Sekck",
        "outputId": "ee6709d6-dc52-419d-ba26-d0cc6d35b813"
      },
      "execution_count": 30,
      "outputs": [
        {
          "output_type": "stream",
          "name": "stdout",
          "text": [
            "Epoch 1/20\n",
            "57/57 [==============================] - 108s 1s/step - loss: 13.8312 - accuracy: 0.3932 - val_loss: 1.0737 - val_accuracy: 0.5341\n",
            "Epoch 2/20\n",
            "57/57 [==============================] - 73s 1s/step - loss: 0.9717 - accuracy: 0.5662 - val_loss: 0.8650 - val_accuracy: 0.6138\n",
            "Epoch 3/20\n",
            "57/57 [==============================] - 56s 991ms/step - loss: 0.7922 - accuracy: 0.6454 - val_loss: 0.7388 - val_accuracy: 0.6994\n",
            "Epoch 4/20\n",
            "57/57 [==============================] - 58s 1s/step - loss: 0.7314 - accuracy: 0.6889 - val_loss: 0.7399 - val_accuracy: 0.6882\n",
            "Epoch 5/20\n",
            "57/57 [==============================] - 56s 990ms/step - loss: 0.6931 - accuracy: 0.7068 - val_loss: 0.6968 - val_accuracy: 0.7056\n",
            "Epoch 6/20\n",
            "57/57 [==============================] - 58s 1s/step - loss: 0.6783 - accuracy: 0.7123 - val_loss: 0.6946 - val_accuracy: 0.7049\n",
            "Epoch 7/20\n",
            "57/57 [==============================] - 59s 1s/step - loss: 0.6643 - accuracy: 0.7178 - val_loss: 0.6667 - val_accuracy: 0.7184\n",
            "Epoch 8/20\n",
            "57/57 [==============================] - 56s 992ms/step - loss: 0.6437 - accuracy: 0.7276 - val_loss: 0.6410 - val_accuracy: 0.7299\n",
            "Epoch 9/20\n",
            "57/57 [==============================] - 57s 993ms/step - loss: 0.6255 - accuracy: 0.7352 - val_loss: 0.6529 - val_accuracy: 0.7277\n",
            "Epoch 10/20\n",
            "57/57 [==============================] - 59s 1s/step - loss: 0.6095 - accuracy: 0.7433 - val_loss: 0.5921 - val_accuracy: 0.7543\n",
            "Epoch 11/20\n",
            "57/57 [==============================] - 59s 1s/step - loss: 0.5797 - accuracy: 0.7576 - val_loss: 0.6113 - val_accuracy: 0.7519\n",
            "Epoch 12/20\n",
            "57/57 [==============================] - 57s 1s/step - loss: 0.5582 - accuracy: 0.7674 - val_loss: 0.5275 - val_accuracy: 0.7832\n",
            "Epoch 13/20\n",
            "57/57 [==============================] - 57s 996ms/step - loss: 0.5311 - accuracy: 0.7805 - val_loss: 0.5265 - val_accuracy: 0.7861\n",
            "Epoch 14/20\n",
            "57/57 [==============================] - 59s 1s/step - loss: 0.5243 - accuracy: 0.7825 - val_loss: 0.5150 - val_accuracy: 0.7892\n",
            "Epoch 15/20\n",
            "57/57 [==============================] - 59s 1s/step - loss: 0.5274 - accuracy: 0.7822 - val_loss: 0.5009 - val_accuracy: 0.7948\n",
            "Epoch 16/20\n",
            "57/57 [==============================] - 59s 1s/step - loss: 0.4920 - accuracy: 0.7971 - val_loss: 0.4840 - val_accuracy: 0.8014\n",
            "Epoch 17/20\n",
            "57/57 [==============================] - 57s 995ms/step - loss: 0.4831 - accuracy: 0.8009 - val_loss: 0.4653 - val_accuracy: 0.8108\n",
            "Epoch 18/20\n",
            "57/57 [==============================] - 57s 999ms/step - loss: 0.4753 - accuracy: 0.8046 - val_loss: 0.4755 - val_accuracy: 0.8058\n",
            "Epoch 19/20\n",
            "57/57 [==============================] - 57s 995ms/step - loss: 0.4589 - accuracy: 0.8109 - val_loss: 0.4446 - val_accuracy: 0.8176\n",
            "Epoch 20/20\n",
            "57/57 [==============================] - 57s 994ms/step - loss: 0.4447 - accuracy: 0.8166 - val_loss: 0.4382 - val_accuracy: 0.8224\n"
          ]
        }
      ]
    },
    {
      "cell_type": "code",
      "source": [],
      "metadata": {
        "id": "QZdxM-YLfwm7"
      },
      "execution_count": null,
      "outputs": []
    }
  ]
}